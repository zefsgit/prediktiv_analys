{
 "cells": [
  {
   "cell_type": "markdown",
   "metadata": {},
   "source": [
    "# Predicting Credit Card Default"
   ]
  },
  {
   "cell_type": "markdown",
   "metadata": {},
   "source": [
    "### Data Set Information:\n",
    "\n",
    "**This research aimed at the case of customers default payments in Taiwan**\n",
    "\n",
    "### Features description:\n",
    "\n",
    "- LIMIT_BAL: Amount of the given credit (NT dollar): it includes both the individual consumer credit and his/her family (supplementary) credit. \n",
    "- SEX: Gender (1 = male; 2 = female). \n",
    "- EDUCATION: Education (1 = graduate school; 2 = university; 3 = high school; 4 = others). \n",
    "- MARRIAGE: Marital status (1 = married; 2 = single; 3 = others). \n",
    "- AGE: Age (year). \n",
    "- PAY_0 - PAY_6: History of past payment. We tracked the past monthly payment records (from April to September, 2005) as follows: 0 = the repayment status in September, 2005; 1 = the repayment status in August, 2005; . . .; 6 = the repayment status in April, 2005. The measurement scale for the repayment status is: -1 = pay duly; 1 = payment delay for one month; 2 = payment delay for two months; . . .; 8 = payment delay for eight months; 9 = payment delay for nine months and above.\n",
    "- BILL_AMT1-BILL_AMT6: Amount of bill statement (NT dollar). X12 = amount of bill statement in September, 2005; X13 = amount of bill statement in August, 2005; . . .; X17 = amount of bill statement in April, 2005. \n",
    "- PAY_AMT1-PAY_AMT6: Amount of previous payment (NT dollar).\n",
    "- default payment next month: **positive class: default | negative class: pay**"
   ]
  },
  {
   "cell_type": "code",
   "execution_count": 130,
   "metadata": {
    "collapsed": true
   },
   "outputs": [],
   "source": [
    "# Importing useful libraries\n",
    "import numpy as np\n",
    "import matplotlib.pyplot as plt\n",
    "import pandas as pd"
   ]
  },
  {
   "cell_type": "markdown",
   "metadata": {},
   "source": [
    "## Data Preparation"
   ]
  },
  {
   "cell_type": "code",
   "execution_count": 131,
   "metadata": {
    "collapsed": true
   },
   "outputs": [],
   "source": [
    "default = pd.read_csv('data/credit_card_default.csv', index_col=\"ID\")\n",
    "# Cange column names to lower case\n",
    "default.columns = default.columns.str.lower()\n",
    "# For pay features if the <= 0 then it means it was not delayed. Set all negativ values to 0\n",
    "pay_features = ['pay_0','pay_2','pay_3','pay_4','pay_5','pay_6']\n",
    "for p in pay_features:\n",
    "    default.loc[default[p]<=0, p] = 0\n",
    "# Rename target to shorter name\n",
    "default.rename(columns={'default payment next month':'default'}, inplace=True) "
   ]
  },
  {
   "cell_type": "code",
   "execution_count": 132,
   "metadata": {},
   "outputs": [
    {
     "data": {
      "text/html": [
       "<div>\n",
       "<style scoped>\n",
       "    .dataframe tbody tr th:only-of-type {\n",
       "        vertical-align: middle;\n",
       "    }\n",
       "\n",
       "    .dataframe tbody tr th {\n",
       "        vertical-align: top;\n",
       "    }\n",
       "\n",
       "    .dataframe thead th {\n",
       "        text-align: right;\n",
       "    }\n",
       "</style>\n",
       "<table border=\"1\" class=\"dataframe\">\n",
       "  <thead>\n",
       "    <tr style=\"text-align: right;\">\n",
       "      <th></th>\n",
       "      <th>limit_bal</th>\n",
       "      <th>sex</th>\n",
       "      <th>education</th>\n",
       "      <th>marriage</th>\n",
       "      <th>age</th>\n",
       "      <th>pay_0</th>\n",
       "      <th>pay_2</th>\n",
       "      <th>pay_3</th>\n",
       "      <th>pay_4</th>\n",
       "      <th>pay_5</th>\n",
       "      <th>...</th>\n",
       "      <th>bill_amt4</th>\n",
       "      <th>bill_amt5</th>\n",
       "      <th>bill_amt6</th>\n",
       "      <th>pay_amt1</th>\n",
       "      <th>pay_amt2</th>\n",
       "      <th>pay_amt3</th>\n",
       "      <th>pay_amt4</th>\n",
       "      <th>pay_amt5</th>\n",
       "      <th>pay_amt6</th>\n",
       "      <th>default</th>\n",
       "    </tr>\n",
       "    <tr>\n",
       "      <th>ID</th>\n",
       "      <th></th>\n",
       "      <th></th>\n",
       "      <th></th>\n",
       "      <th></th>\n",
       "      <th></th>\n",
       "      <th></th>\n",
       "      <th></th>\n",
       "      <th></th>\n",
       "      <th></th>\n",
       "      <th></th>\n",
       "      <th></th>\n",
       "      <th></th>\n",
       "      <th></th>\n",
       "      <th></th>\n",
       "      <th></th>\n",
       "      <th></th>\n",
       "      <th></th>\n",
       "      <th></th>\n",
       "      <th></th>\n",
       "      <th></th>\n",
       "      <th></th>\n",
       "    </tr>\n",
       "  </thead>\n",
       "  <tbody>\n",
       "    <tr>\n",
       "      <th>1</th>\n",
       "      <td>20000</td>\n",
       "      <td>2</td>\n",
       "      <td>2</td>\n",
       "      <td>1</td>\n",
       "      <td>24</td>\n",
       "      <td>2</td>\n",
       "      <td>2</td>\n",
       "      <td>0</td>\n",
       "      <td>0</td>\n",
       "      <td>0</td>\n",
       "      <td>...</td>\n",
       "      <td>0</td>\n",
       "      <td>0</td>\n",
       "      <td>0</td>\n",
       "      <td>0</td>\n",
       "      <td>689</td>\n",
       "      <td>0</td>\n",
       "      <td>0</td>\n",
       "      <td>0</td>\n",
       "      <td>0</td>\n",
       "      <td>1</td>\n",
       "    </tr>\n",
       "    <tr>\n",
       "      <th>2</th>\n",
       "      <td>120000</td>\n",
       "      <td>2</td>\n",
       "      <td>2</td>\n",
       "      <td>2</td>\n",
       "      <td>26</td>\n",
       "      <td>0</td>\n",
       "      <td>2</td>\n",
       "      <td>0</td>\n",
       "      <td>0</td>\n",
       "      <td>0</td>\n",
       "      <td>...</td>\n",
       "      <td>3272</td>\n",
       "      <td>3455</td>\n",
       "      <td>3261</td>\n",
       "      <td>0</td>\n",
       "      <td>1000</td>\n",
       "      <td>1000</td>\n",
       "      <td>1000</td>\n",
       "      <td>0</td>\n",
       "      <td>2000</td>\n",
       "      <td>1</td>\n",
       "    </tr>\n",
       "    <tr>\n",
       "      <th>3</th>\n",
       "      <td>90000</td>\n",
       "      <td>2</td>\n",
       "      <td>2</td>\n",
       "      <td>2</td>\n",
       "      <td>34</td>\n",
       "      <td>0</td>\n",
       "      <td>0</td>\n",
       "      <td>0</td>\n",
       "      <td>0</td>\n",
       "      <td>0</td>\n",
       "      <td>...</td>\n",
       "      <td>14331</td>\n",
       "      <td>14948</td>\n",
       "      <td>15549</td>\n",
       "      <td>1518</td>\n",
       "      <td>1500</td>\n",
       "      <td>1000</td>\n",
       "      <td>1000</td>\n",
       "      <td>1000</td>\n",
       "      <td>5000</td>\n",
       "      <td>0</td>\n",
       "    </tr>\n",
       "    <tr>\n",
       "      <th>4</th>\n",
       "      <td>50000</td>\n",
       "      <td>2</td>\n",
       "      <td>2</td>\n",
       "      <td>1</td>\n",
       "      <td>37</td>\n",
       "      <td>0</td>\n",
       "      <td>0</td>\n",
       "      <td>0</td>\n",
       "      <td>0</td>\n",
       "      <td>0</td>\n",
       "      <td>...</td>\n",
       "      <td>28314</td>\n",
       "      <td>28959</td>\n",
       "      <td>29547</td>\n",
       "      <td>2000</td>\n",
       "      <td>2019</td>\n",
       "      <td>1200</td>\n",
       "      <td>1100</td>\n",
       "      <td>1069</td>\n",
       "      <td>1000</td>\n",
       "      <td>0</td>\n",
       "    </tr>\n",
       "    <tr>\n",
       "      <th>5</th>\n",
       "      <td>50000</td>\n",
       "      <td>1</td>\n",
       "      <td>2</td>\n",
       "      <td>1</td>\n",
       "      <td>57</td>\n",
       "      <td>0</td>\n",
       "      <td>0</td>\n",
       "      <td>0</td>\n",
       "      <td>0</td>\n",
       "      <td>0</td>\n",
       "      <td>...</td>\n",
       "      <td>20940</td>\n",
       "      <td>19146</td>\n",
       "      <td>19131</td>\n",
       "      <td>2000</td>\n",
       "      <td>36681</td>\n",
       "      <td>10000</td>\n",
       "      <td>9000</td>\n",
       "      <td>689</td>\n",
       "      <td>679</td>\n",
       "      <td>0</td>\n",
       "    </tr>\n",
       "  </tbody>\n",
       "</table>\n",
       "<p>5 rows × 24 columns</p>\n",
       "</div>"
      ],
      "text/plain": [
       "    limit_bal  sex  education  marriage  age  pay_0  pay_2  pay_3  pay_4  \\\n",
       "ID                                                                         \n",
       "1       20000    2          2         1   24      2      2      0      0   \n",
       "2      120000    2          2         2   26      0      2      0      0   \n",
       "3       90000    2          2         2   34      0      0      0      0   \n",
       "4       50000    2          2         1   37      0      0      0      0   \n",
       "5       50000    1          2         1   57      0      0      0      0   \n",
       "\n",
       "    pay_5  ...  bill_amt4  bill_amt5  bill_amt6  pay_amt1  pay_amt2  pay_amt3  \\\n",
       "ID         ...                                                                  \n",
       "1       0  ...          0          0          0         0       689         0   \n",
       "2       0  ...       3272       3455       3261         0      1000      1000   \n",
       "3       0  ...      14331      14948      15549      1518      1500      1000   \n",
       "4       0  ...      28314      28959      29547      2000      2019      1200   \n",
       "5       0  ...      20940      19146      19131      2000     36681     10000   \n",
       "\n",
       "    pay_amt4  pay_amt5  pay_amt6  default  \n",
       "ID                                         \n",
       "1          0         0         0        1  \n",
       "2       1000         0      2000        1  \n",
       "3       1000      1000      5000        0  \n",
       "4       1100      1069      1000        0  \n",
       "5       9000       689       679        0  \n",
       "\n",
       "[5 rows x 24 columns]"
      ]
     },
     "execution_count": 132,
     "metadata": {},
     "output_type": "execute_result"
    }
   ],
   "source": [
    "default.head()"
   ]
  },
  {
   "cell_type": "code",
   "execution_count": 133,
   "metadata": {},
   "outputs": [],
   "source": [
    "# Create dummy variables\n",
    "# Base values: female, other_education, not_married\n",
    "# == return True or False and astype('int') coverts to 1 for True and 0 for False\n",
    "default['grad_school'] = (default['education'] == 1).astype('int')\n",
    "default['university'] = (default['education'] == 2).astype('int')\n",
    "default['high_school'] = (default['education'] == 3).astype('int')\n",
    "default['male'] = (default['sex']==1).astype('int')\n",
    "default['married'] = (default['marriage'] == 1).astype('int')\n",
    "# Remove columns\n",
    "default.drop(['education', 'sex', 'marriage'] , axis=1, inplace=True)"
   ]
  },
  {
   "cell_type": "code",
   "execution_count": 134,
   "metadata": {},
   "outputs": [
    {
     "data": {
      "text/html": [
       "<div>\n",
       "<style scoped>\n",
       "    .dataframe tbody tr th:only-of-type {\n",
       "        vertical-align: middle;\n",
       "    }\n",
       "\n",
       "    .dataframe tbody tr th {\n",
       "        vertical-align: top;\n",
       "    }\n",
       "\n",
       "    .dataframe thead th {\n",
       "        text-align: right;\n",
       "    }\n",
       "</style>\n",
       "<table border=\"1\" class=\"dataframe\">\n",
       "  <thead>\n",
       "    <tr style=\"text-align: right;\">\n",
       "      <th></th>\n",
       "      <th>limit_bal</th>\n",
       "      <th>age</th>\n",
       "      <th>pay_0</th>\n",
       "      <th>pay_2</th>\n",
       "      <th>pay_3</th>\n",
       "      <th>pay_4</th>\n",
       "      <th>pay_5</th>\n",
       "      <th>pay_6</th>\n",
       "      <th>bill_amt1</th>\n",
       "      <th>bill_amt2</th>\n",
       "      <th>...</th>\n",
       "      <th>pay_amt3</th>\n",
       "      <th>pay_amt4</th>\n",
       "      <th>pay_amt5</th>\n",
       "      <th>pay_amt6</th>\n",
       "      <th>default</th>\n",
       "      <th>grad_school</th>\n",
       "      <th>university</th>\n",
       "      <th>high_school</th>\n",
       "      <th>male</th>\n",
       "      <th>married</th>\n",
       "    </tr>\n",
       "    <tr>\n",
       "      <th>ID</th>\n",
       "      <th></th>\n",
       "      <th></th>\n",
       "      <th></th>\n",
       "      <th></th>\n",
       "      <th></th>\n",
       "      <th></th>\n",
       "      <th></th>\n",
       "      <th></th>\n",
       "      <th></th>\n",
       "      <th></th>\n",
       "      <th></th>\n",
       "      <th></th>\n",
       "      <th></th>\n",
       "      <th></th>\n",
       "      <th></th>\n",
       "      <th></th>\n",
       "      <th></th>\n",
       "      <th></th>\n",
       "      <th></th>\n",
       "      <th></th>\n",
       "      <th></th>\n",
       "    </tr>\n",
       "  </thead>\n",
       "  <tbody>\n",
       "    <tr>\n",
       "      <th>1</th>\n",
       "      <td>20000</td>\n",
       "      <td>24</td>\n",
       "      <td>2</td>\n",
       "      <td>2</td>\n",
       "      <td>0</td>\n",
       "      <td>0</td>\n",
       "      <td>0</td>\n",
       "      <td>0</td>\n",
       "      <td>3913</td>\n",
       "      <td>3102</td>\n",
       "      <td>...</td>\n",
       "      <td>0</td>\n",
       "      <td>0</td>\n",
       "      <td>0</td>\n",
       "      <td>0</td>\n",
       "      <td>1</td>\n",
       "      <td>0</td>\n",
       "      <td>1</td>\n",
       "      <td>0</td>\n",
       "      <td>0</td>\n",
       "      <td>1</td>\n",
       "    </tr>\n",
       "    <tr>\n",
       "      <th>2</th>\n",
       "      <td>120000</td>\n",
       "      <td>26</td>\n",
       "      <td>0</td>\n",
       "      <td>2</td>\n",
       "      <td>0</td>\n",
       "      <td>0</td>\n",
       "      <td>0</td>\n",
       "      <td>2</td>\n",
       "      <td>2682</td>\n",
       "      <td>1725</td>\n",
       "      <td>...</td>\n",
       "      <td>1000</td>\n",
       "      <td>1000</td>\n",
       "      <td>0</td>\n",
       "      <td>2000</td>\n",
       "      <td>1</td>\n",
       "      <td>0</td>\n",
       "      <td>1</td>\n",
       "      <td>0</td>\n",
       "      <td>0</td>\n",
       "      <td>0</td>\n",
       "    </tr>\n",
       "    <tr>\n",
       "      <th>3</th>\n",
       "      <td>90000</td>\n",
       "      <td>34</td>\n",
       "      <td>0</td>\n",
       "      <td>0</td>\n",
       "      <td>0</td>\n",
       "      <td>0</td>\n",
       "      <td>0</td>\n",
       "      <td>0</td>\n",
       "      <td>29239</td>\n",
       "      <td>14027</td>\n",
       "      <td>...</td>\n",
       "      <td>1000</td>\n",
       "      <td>1000</td>\n",
       "      <td>1000</td>\n",
       "      <td>5000</td>\n",
       "      <td>0</td>\n",
       "      <td>0</td>\n",
       "      <td>1</td>\n",
       "      <td>0</td>\n",
       "      <td>0</td>\n",
       "      <td>0</td>\n",
       "    </tr>\n",
       "    <tr>\n",
       "      <th>4</th>\n",
       "      <td>50000</td>\n",
       "      <td>37</td>\n",
       "      <td>0</td>\n",
       "      <td>0</td>\n",
       "      <td>0</td>\n",
       "      <td>0</td>\n",
       "      <td>0</td>\n",
       "      <td>0</td>\n",
       "      <td>46990</td>\n",
       "      <td>48233</td>\n",
       "      <td>...</td>\n",
       "      <td>1200</td>\n",
       "      <td>1100</td>\n",
       "      <td>1069</td>\n",
       "      <td>1000</td>\n",
       "      <td>0</td>\n",
       "      <td>0</td>\n",
       "      <td>1</td>\n",
       "      <td>0</td>\n",
       "      <td>0</td>\n",
       "      <td>1</td>\n",
       "    </tr>\n",
       "    <tr>\n",
       "      <th>5</th>\n",
       "      <td>50000</td>\n",
       "      <td>57</td>\n",
       "      <td>0</td>\n",
       "      <td>0</td>\n",
       "      <td>0</td>\n",
       "      <td>0</td>\n",
       "      <td>0</td>\n",
       "      <td>0</td>\n",
       "      <td>8617</td>\n",
       "      <td>5670</td>\n",
       "      <td>...</td>\n",
       "      <td>10000</td>\n",
       "      <td>9000</td>\n",
       "      <td>689</td>\n",
       "      <td>679</td>\n",
       "      <td>0</td>\n",
       "      <td>0</td>\n",
       "      <td>1</td>\n",
       "      <td>0</td>\n",
       "      <td>1</td>\n",
       "      <td>1</td>\n",
       "    </tr>\n",
       "  </tbody>\n",
       "</table>\n",
       "<p>5 rows × 26 columns</p>\n",
       "</div>"
      ],
      "text/plain": [
       "    limit_bal  age  pay_0  pay_2  pay_3  pay_4  pay_5  pay_6  bill_amt1  \\\n",
       "ID                                                                        \n",
       "1       20000   24      2      2      0      0      0      0       3913   \n",
       "2      120000   26      0      2      0      0      0      2       2682   \n",
       "3       90000   34      0      0      0      0      0      0      29239   \n",
       "4       50000   37      0      0      0      0      0      0      46990   \n",
       "5       50000   57      0      0      0      0      0      0       8617   \n",
       "\n",
       "    bill_amt2  ...  pay_amt3  pay_amt4  pay_amt5  pay_amt6  default  \\\n",
       "ID             ...                                                    \n",
       "1        3102  ...         0         0         0         0        1   \n",
       "2        1725  ...      1000      1000         0      2000        1   \n",
       "3       14027  ...      1000      1000      1000      5000        0   \n",
       "4       48233  ...      1200      1100      1069      1000        0   \n",
       "5        5670  ...     10000      9000       689       679        0   \n",
       "\n",
       "    grad_school  university  high_school  male  married  \n",
       "ID                                                       \n",
       "1             0           1            0     0        1  \n",
       "2             0           1            0     0        0  \n",
       "3             0           1            0     0        0  \n",
       "4             0           1            0     0        1  \n",
       "5             0           1            0     1        1  \n",
       "\n",
       "[5 rows x 26 columns]"
      ]
     },
     "execution_count": 134,
     "metadata": {},
     "output_type": "execute_result"
    }
   ],
   "source": [
    "default.head()"
   ]
  },
  {
   "cell_type": "markdown",
   "metadata": {},
   "source": [
    "# Building models using all features"
   ]
  },
  {
   "cell_type": "code",
   "execution_count": 135,
   "metadata": {
    "collapsed": true
   },
   "outputs": [],
   "source": [
    "from sklearn.model_selection import train_test_split\n",
    "from sklearn.metrics import accuracy_score, precision_score, recall_score, f1_score, confusion_matrix, precision_recall_curve\n",
    "from sklearn.metrics import ConfusionMatrixDisplay\n",
    "#from sklearn.preprocessing import RobustScaler"
   ]
  },
  {
   "cell_type": "code",
   "execution_count": 136,
   "metadata": {},
   "outputs": [
    {
     "data": {
      "text/html": [
       "<div>\n",
       "<style scoped>\n",
       "    .dataframe tbody tr th:only-of-type {\n",
       "        vertical-align: middle;\n",
       "    }\n",
       "\n",
       "    .dataframe tbody tr th {\n",
       "        vertical-align: top;\n",
       "    }\n",
       "\n",
       "    .dataframe thead th {\n",
       "        text-align: right;\n",
       "    }\n",
       "</style>\n",
       "<table border=\"1\" class=\"dataframe\">\n",
       "  <thead>\n",
       "    <tr style=\"text-align: right;\">\n",
       "      <th></th>\n",
       "      <th>default</th>\n",
       "      <th>%</th>\n",
       "    </tr>\n",
       "  </thead>\n",
       "  <tbody>\n",
       "    <tr>\n",
       "      <th>0</th>\n",
       "      <td>23364</td>\n",
       "      <td>77.88</td>\n",
       "    </tr>\n",
       "    <tr>\n",
       "      <th>1</th>\n",
       "      <td>6636</td>\n",
       "      <td>22.12</td>\n",
       "    </tr>\n",
       "  </tbody>\n",
       "</table>\n",
       "</div>"
      ],
      "text/plain": [
       "   default      %\n",
       "0    23364  77.88\n",
       "1     6636  22.12"
      ]
     },
     "execution_count": 136,
     "metadata": {},
     "output_type": "execute_result"
    }
   ],
   "source": [
    "# Check if data is imbalanced\n",
    "count = default['default'].value_counts()\n",
    "imbalance = pd.DataFrame(count)\n",
    "percent = imbalance['default'] / imbalance['default'].sum() * 100\n",
    "imbalance['%'] = percent\n",
    "imbalance\n"
   ]
  },
  {
   "cell_type": "code",
   "execution_count": 137,
   "metadata": {
    "collapsed": true,
    "scrolled": true
   },
   "outputs": [],
   "source": [
    "# Create training and test sets\n",
    "target_name = 'default'\n",
    "x = default.drop('default', axis=1)\n",
    "#robust_scaler = RobustScaler()\n",
    "#x = robust_scaler.fit_transform(x)\n",
    "y = default[target_name]\n",
    "x_train, x_test, y_train, y_test = train_test_split(x, y, test_size=0.2, random_state=123, stratify=y)"
   ]
  },
  {
   "cell_type": "markdown",
   "metadata": {},
   "source": [
    "### Stratify\n",
    "Stratify is to make sure imbalanced data has the same percentage of each class in the split."
   ]
  },
  {
   "cell_type": "markdown",
   "metadata": {},
   "source": [
    "### Preparing a DataFrame for model analysis"
   ]
  },
  {
   "cell_type": "code",
   "execution_count": 138,
   "metadata": {
    "collapsed": true
   },
   "outputs": [],
   "source": [
    "# Data frame for evaluation metrics\n",
    "metrics = pd.DataFrame(index=['accuracy', 'precision', 'recall', 'f1'], \n",
    "                      columns=['NULL','LogisticReg', 'ClassTree', 'NaiveBayes'])"
   ]
  },
  {
   "cell_type": "markdown",
   "metadata": {},
   "source": [
    "### Error metrics\n",
    "- **Accuracy**: the proportion of the total number of predictions that are correct, (TP+TN)/Total​\n",
    "- **Precision**: the proportion of positive predictions that are actually correct, TP/(TP+FP)​ \n",
    "- **Recall**: the proportion of positive observed values correctly predicted as such, TP/(TP+FN) \n",
    "- **F1**: Combination of precision and recall, 2*(recision*recall)/(precision+recall)\n",
    "\n",
    "**In this application:**\n",
    "- **Accuracy**: Overall how often the model predicts correctly defaulters and non-defaulters\n",
    "- **Precision**: When the model predicts **default**: how often is correct?\n",
    "- **Recall**: The proportion of **actual defaulters** that the model will correctly predict as such\n",
    "\n",
    "#### Which metric should I use?\n",
    "\n",
    "- **False Positive**: A person who will pay predicted as defaulter\n",
    "- **False Negative**: A person who will default predicted as payer\n",
    "\n",
    "#### False negatives are worse => look for a better recall"
   ]
  },
  {
   "cell_type": "markdown",
   "metadata": {},
   "source": [
    "## The Null model: always predict the most common category"
   ]
  },
  {
   "cell_type": "code",
   "execution_count": 139,
   "metadata": {},
   "outputs": [
    {
     "name": "stdout",
     "output_type": "stream",
     "text": [
      "Most frequent class:  0\n"
     ]
    }
   ],
   "source": [
    "# Count occurance of each category and idxmax() is selecting the most occured being 0\n",
    "frequent_class = y_train.value_counts().idxmax()\n",
    "print('Most frequent class: ',frequent_class)\n",
    "y_pred_test = np.repeat(frequent_class, y_test.size)\n"
   ]
  },
  {
   "cell_type": "code",
   "execution_count": 140,
   "metadata": {
    "scrolled": true
   },
   "outputs": [
    {
     "name": "stderr",
     "output_type": "stream",
     "text": [
      "/Users/evahegnar/opt/miniconda3/envs/pred_env/lib/python3.9/site-packages/sklearn/metrics/_classification.py:1318: UndefinedMetricWarning: Precision is ill-defined and being set to 0.0 due to no predicted samples. Use `zero_division` parameter to control this behavior.\n",
      "  _warn_prf(average, modifier, msg_start, len(result))\n"
     ]
    },
    {
     "data": {
      "image/png": "[encoded data removed]",
      "text/plain": [
       "<Figure size 432x288 with 2 Axes>"
      ]
     },
     "metadata": {
      "needs_background": "light"
     },
     "output_type": "display_data"
    }
   ],
   "source": [
    "metrics.loc['accuracy','NULL'] = accuracy_score(y_pred=y_pred_test, y_true=y_test)\n",
    "metrics.loc['precision','NULL'] = precision_score(y_pred=y_pred_test, y_true=y_test)\n",
    "metrics.loc['recall','NULL'] = recall_score(y_pred=y_pred_test, y_true=y_test)\n",
    "metrics.loc['f1','NULL'] = f1_score(y_pred=y_pred_test, y_true=y_test)\n",
    "\n",
    "cm = confusion_matrix(y_pred=y_pred_test, y_true=y_test)\n",
    "disp = ConfusionMatrixDisplay(cm, display_labels=['pay', 'default'])\n",
    "disp.plot();"
   ]
  },
  {
   "cell_type": "markdown",
   "metadata": {},
   "source": [
    "## A. Logistic Regression"
   ]
  },
  {
   "cell_type": "code",
   "execution_count": 141,
   "metadata": {},
   "outputs": [
    {
     "data": {
      "image/png": "[encoded data removed]",
      "text/plain": [
       "<Figure size 432x288 with 2 Axes>"
      ]
     },
     "metadata": {
      "needs_background": "light"
     },
     "output_type": "display_data"
    }
   ],
   "source": [
    "# 1. Import the estimator object (model)\n",
    "from sklearn.linear_model import LogisticRegression\n",
    "\n",
    "# 2. Create an instance of the estimator\n",
    "logistic_regression = LogisticRegression(n_jobs=-1, random_state=15, max_iter=1000)\n",
    "\n",
    "# 3. Use the trainning data to train the estimator\n",
    "logistic_regression.fit(x_train, y_train)\n",
    "\n",
    "# 4. Evaluate the model\n",
    "y_pred_test = logistic_regression.predict(x_test)\n",
    "metrics.loc['accuracy','LogisticReg'] = accuracy_score(y_pred=y_pred_test, y_true=y_test)\n",
    "metrics.loc['precision','LogisticReg'] = precision_score(y_pred=y_pred_test, y_true=y_test)\n",
    "metrics.loc['recall','LogisticReg'] = recall_score(y_pred=y_pred_test, y_true=y_test)\n",
    "metrics.loc['f1','LogisticReg'] = f1_score(y_pred=y_pred_test, y_true=y_test)\n",
    "\n",
    "#Confusion matrix\n",
    "cm = confusion_matrix(y_pred=y_pred_test, y_true=y_test)\n",
    "disp = ConfusionMatrixDisplay(cm, display_labels=['pay', 'default'])\n",
    "disp.plot();\n"
   ]
  },
  {
   "cell_type": "markdown",
   "metadata": {},
   "source": [
    "## B. Classification Trees"
   ]
  },
  {
   "cell_type": "code",
   "execution_count": 142,
   "metadata": {},
   "outputs": [
    {
     "data": {
      "image/png": "[encoded data removed]",
      "text/plain": [
       "<Figure size 432x288 with 2 Axes>"
      ]
     },
     "metadata": {
      "needs_background": "light"
     },
     "output_type": "display_data"
    }
   ],
   "source": [
    "# 1. Import the estimator object (model)\n",
    "from sklearn.tree import DecisionTreeClassifier\n",
    "\n",
    "# 2. Create an instance of the estimator\n",
    "class_tree = DecisionTreeClassifier(min_samples_split=30, min_samples_leaf=10, random_state=10)\n",
    "\n",
    "# 3. Use the trainning data to train the estimator\n",
    "class_tree.fit(x_train, y_train)\n",
    "\n",
    "# 4. Evaluate the model\n",
    "y_pred_test = class_tree.predict(x_test)\n",
    "metrics.loc['accuracy','ClassTree'] = accuracy_score(y_pred=y_pred_test, y_true=y_test)\n",
    "metrics.loc['precision','ClassTree'] = precision_score(y_pred=y_pred_test, y_true=y_test)\n",
    "metrics.loc['recall','ClassTree'] = recall_score(y_pred=y_pred_test, y_true=y_test)\n",
    "metrics.loc['f1','ClassTree'] = f1_score(y_pred=y_pred_test, y_true=y_test)\n",
    "\n",
    "#Confusion matrix\n",
    "cm = confusion_matrix(y_pred=y_pred_test, y_true=y_test)\n",
    "disp = ConfusionMatrixDisplay(cm, display_labels=['pay', 'default'])\n",
    "disp.plot();"
   ]
  },
  {
   "cell_type": "markdown",
   "metadata": {},
   "source": [
    "## C. Naive Bayes Classifier"
   ]
  },
  {
   "cell_type": "code",
   "execution_count": 143,
   "metadata": {},
   "outputs": [
    {
     "data": {
      "image/png": "[encoded data removed]",
      "text/plain": [
       "<Figure size 432x288 with 2 Axes>"
      ]
     },
     "metadata": {
      "needs_background": "light"
     },
     "output_type": "display_data"
    }
   ],
   "source": [
    "# 1. Import the estimator object (model)\n",
    "from sklearn.naive_bayes import GaussianNB\n",
    "\n",
    "# 2. Create an instance of the estimator\n",
    "nbc = GaussianNB()\n",
    "\n",
    "# 3. Use the training data to train the estimator\n",
    "nbc.fit(x_train, y_train)\n",
    "\n",
    "# 4. Evaluate the model\n",
    "y_pred_test = nbc.predict(x_test)\n",
    "metrics.loc['accuracy','NaiveBayes'] = accuracy_score(y_pred=y_pred_test, y_true=y_test)\n",
    "metrics.loc['precision','NaiveBayes'] = precision_score(y_pred=y_pred_test, y_true=y_test)\n",
    "metrics.loc['recall','NaiveBayes'] = recall_score(y_pred=y_pred_test, y_true=y_test)\n",
    "metrics.loc['f1','NaiveBayes'] = f1_score(y_pred=y_pred_test, y_true=y_test)\n",
    "\n",
    "#Confusion matrix\n",
    "cm = confusion_matrix(y_pred=y_pred_test, y_true=y_test)\n",
    "disp = ConfusionMatrixDisplay(cm, display_labels=['pay', 'default'])\n",
    "disp.plot();"
   ]
  },
  {
   "cell_type": "markdown",
   "metadata": {},
   "source": [
    "### Model evaluation"
   ]
  },
  {
   "cell_type": "code",
   "execution_count": 144,
   "metadata": {},
   "outputs": [
    {
     "data": {
      "text/html": [
       "<div>\n",
       "<style scoped>\n",
       "    .dataframe tbody tr th:only-of-type {\n",
       "        vertical-align: middle;\n",
       "    }\n",
       "\n",
       "    .dataframe tbody tr th {\n",
       "        vertical-align: top;\n",
       "    }\n",
       "\n",
       "    .dataframe thead th {\n",
       "        text-align: right;\n",
       "    }\n",
       "</style>\n",
       "<table border=\"1\" class=\"dataframe\">\n",
       "  <thead>\n",
       "    <tr style=\"text-align: right;\">\n",
       "      <th></th>\n",
       "      <th>NULL</th>\n",
       "      <th>LogisticReg</th>\n",
       "      <th>ClassTree</th>\n",
       "      <th>NaiveBayes</th>\n",
       "    </tr>\n",
       "  </thead>\n",
       "  <tbody>\n",
       "    <tr>\n",
       "      <th>accuracy</th>\n",
       "      <td>0.778833</td>\n",
       "      <td>0.778667</td>\n",
       "      <td>0.787667</td>\n",
       "      <td>0.374833</td>\n",
       "    </tr>\n",
       "    <tr>\n",
       "      <th>precision</th>\n",
       "      <td>0.0</td>\n",
       "      <td>0.0</td>\n",
       "      <td>0.527983</td>\n",
       "      <td>0.247395</td>\n",
       "    </tr>\n",
       "    <tr>\n",
       "      <th>recall</th>\n",
       "      <td>0.0</td>\n",
       "      <td>0.0</td>\n",
       "      <td>0.37679</td>\n",
       "      <td>0.894499</td>\n",
       "    </tr>\n",
       "    <tr>\n",
       "      <th>f1</th>\n",
       "      <td>0.0</td>\n",
       "      <td>0.0</td>\n",
       "      <td>0.439754</td>\n",
       "      <td>0.387592</td>\n",
       "    </tr>\n",
       "  </tbody>\n",
       "</table>\n",
       "</div>"
      ],
      "text/plain": [
       "               NULL LogisticReg ClassTree NaiveBayes\n",
       "accuracy   0.778833    0.778667  0.787667   0.374833\n",
       "precision       0.0         0.0  0.527983   0.247395\n",
       "recall          0.0         0.0   0.37679   0.894499\n",
       "f1              0.0         0.0  0.439754   0.387592"
      ]
     },
     "execution_count": 144,
     "metadata": {},
     "output_type": "execute_result"
    }
   ],
   "source": [
    "metrics"
   ]
  },
  {
   "cell_type": "code",
   "execution_count": 145,
   "metadata": {},
   "outputs": [
    {
     "data": {
      "image/png": "[encoded data removed]",
      "text/plain": [
       "<Figure size 576x360 with 1 Axes>"
      ]
     },
     "metadata": {
      "needs_background": "light"
     },
     "output_type": "display_data"
    }
   ],
   "source": [
    "fig, ax = plt.subplots(figsize=(8,5))\n",
    "metrics.plot(kind='barh', ax=ax)\n",
    "ax.grid();"
   ]
  },
  {
   "cell_type": "markdown",
   "metadata": {},
   "source": [
    "### Threshold\n",
    "- Classification algorithms classify to postitive (1) och negative (0) class by using probability and threshold value \n",
    "- Threshold is the least probability classifying an observation to the postive class\n",
    "- Default is 0.5 (50%)\n",
    "- Threshold can be tuned to improve precision and recall\n",
    "- Scikit-learn compute precision-recall pairs for different probability thresholds to find optimal threshold"
   ]
  },
  {
   "cell_type": "code",
   "execution_count": 112,
   "metadata": {},
   "outputs": [
    {
     "data": {
      "text/plain": [
       "array([[0.18624585, 0.81375415],\n",
       "       [0.16829497, 0.83170503],\n",
       "       [0.1055521 , 0.8944479 ],\n",
       "       ...,\n",
       "       [0.15790021, 0.84209979],\n",
       "       [0.17423842, 0.82576158],\n",
       "       [0.15073336, 0.84926664]])"
      ]
     },
     "execution_count": 112,
     "metadata": {},
     "output_type": "execute_result"
    }
   ],
   "source": [
    "nbc.predict_proba(x_test)"
   ]
  },
  {
   "cell_type": "code",
   "execution_count": 119,
   "metadata": {
    "collapsed": true
   },
   "outputs": [],
   "source": [
    "# Threshold\n",
    "# predict_proba returns array (n_samples, n_classes), use [:,1] to get positive class default \n",
    "precision_nb, recall_nb, thresholds_nb = precision_recall_curve(y_true=y_test, \n",
    "                                            probas_pred=nbc.predict_proba(x_test)[:,1])\n",
    "precision_tree, recall_tree, thresholds_tree = precision_recall_curve(y_true=y_test, \n",
    "                                            probas_pred=class_tree.predict_proba(x_test)[:,1])"
   ]
  },
  {
   "cell_type": "code",
   "execution_count": 118,
   "metadata": {},
   "outputs": [
    {
     "data": {
      "image/png": "[encoded data removed]",
      "text/plain": [
       "<Figure size 576x360 with 1 Axes>"
      ]
     },
     "metadata": {
      "needs_background": "light"
     },
     "output_type": "display_data"
    }
   ],
   "source": [
    "fig, ax = plt.subplots(figsize=(8,5))\n",
    "ax.plot(precision_nb, recall_nb, label='NaiveBayes')\n",
    "ax.plot(precision_tree, recall_tree, label='ClassTree')\n",
    "ax.set_xlabel('Precision')\n",
    "ax.set_ylabel('Recall')\n",
    "ax.set_title('Precision-Recall Curve')\n",
    "ax.legend()\n",
    "ax.grid();"
   ]
  },
  {
   "cell_type": "markdown",
   "metadata": {},
   "source": [
    "### Confusion matrix for modified Logistic Regression Classifier"
   ]
  },
  {
   "cell_type": "code",
   "execution_count": 123,
   "metadata": {},
   "outputs": [
    {
     "data": {
      "image/png": "[encoded data removed]",
      "text/plain": [
       "<Figure size 576x360 with 1 Axes>"
      ]
     },
     "metadata": {
      "needs_background": "light"
     },
     "output_type": "display_data"
    }
   ],
   "source": [
    "fig, ax = plt.subplots(figsize=(8,5))\n",
    "ax.plot(thresholds_tree, precision_tree[1:], label='Precision')\n",
    "ax.plot(thresholds_tree, recall_tree[1:], label='Recall')\n",
    "ax.set_xlabel('Classification Threshold')\n",
    "ax.set_ylabel('Precision, Recall')\n",
    "ax.set_title('Classification Tree: Precision-Recall')\n",
    "ax.vlines(x=0.42, ymin=0, ymax=1, color='red')\n",
    "ax.legend()\n",
    "ax.grid();"
   ]
  },
  {
   "cell_type": "markdown",
   "metadata": {},
   "source": [
    "### Classifier with threshold of 0.42"
   ]
  },
  {
   "cell_type": "code",
   "execution_count": 124,
   "metadata": {},
   "outputs": [
    {
     "name": "stdout",
     "output_type": "stream",
     "text": [
      "Recall:  45.81763376036172\n",
      "Precision:  45.67993989481593\n"
     ]
    },
    {
     "data": {
      "image/png": "[encoded data removed]",
      "text/plain": [
       "<Figure size 432x288 with 2 Axes>"
      ]
     },
     "metadata": {
      "needs_background": "light"
     },
     "output_type": "display_data"
    }
   ],
   "source": [
    "y_pred_proba = class_tree.predict_proba(x_test)[:,1]\n",
    "y_pred_test = (y_pred_proba >= 0.42).astype('int')\n",
    "#Confusion matrix\n",
    "cm = confusion_matrix(y_pred=y_pred_test, y_true=y_test)\n",
    "print(\"Recall: \", 100*recall_score(y_pred=y_pred_test, y_true=y_test))\n",
    "print(\"Precision: \", 100*precision_score(y_pred=y_pred_test, y_true=y_test))\n",
    "disp = ConfusionMatrixDisplay(cm, display_labels=['pay', 'default'])\n",
    "disp.plot();"
   ]
  },
  {
   "cell_type": "markdown",
   "metadata": {},
   "source": [
    "### Making individual predictions"
   ]
  },
  {
   "cell_type": "code",
   "execution_count": 127,
   "metadata": {
    "collapsed": true
   },
   "outputs": [],
   "source": [
    "def make_ind_prediction(new_data):\n",
    "    data = new_data.values.reshape(1, -1)\n",
    "    #data = robust_scaler.transform(data)\n",
    "    prob = class_tree.predict_proba(data)[0][1]\n",
    "    if prob >= 0.42:\n",
    "        return 'Will default'\n",
    "    else:\n",
    "        return 'Will pay'"
   ]
  },
  {
   "cell_type": "code",
   "execution_count": 128,
   "metadata": {},
   "outputs": [
    {
     "name": "stderr",
     "output_type": "stream",
     "text": [
      "/Users/evahegnar/opt/miniconda3/envs/pred_env/lib/python3.9/site-packages/sklearn/base.py:450: UserWarning: X does not have valid feature names, but DecisionTreeClassifier was fitted with feature names\n",
      "  warnings.warn(\n"
     ]
    },
    {
     "data": {
      "text/plain": [
       "'Will pay'"
      ]
     },
     "execution_count": 128,
     "metadata": {},
     "output_type": "execute_result"
    }
   ],
   "source": [
    "from collections import OrderedDict\n",
    "new_customer = OrderedDict([('limit_bal', 4000),('age', 50 ),('bill_amt1', 500),\n",
    "                            ('bill_amt2', 35509 ),('bill_amt3', 689 ),('bill_amt4', 0 ),\n",
    "                            ('bill_amt5', 0 ),('bill_amt6', 0 ), ('pay_amt1', 0 ),('pay_amt2', 35509 ),\n",
    "                            ('pay_amt3', 0 ),('pay_amt4', 0 ),('pay_amt5', 0 ), ('pay_amt6', 0 ),\n",
    "                            ('male', 1 ),('grad_school', 0 ),('university', 1 ), ('high_school', 0 ),\n",
    "                            ('married', 1 ),('pay_0', -1 ),('pay_2', -1 ),('pay_3', -1 ),\n",
    "                            ('pay_4', 0),('pay_5', -1), ('pay_6', 0)])\n",
    "\n",
    "new_customer = pd.Series(new_customer)\n",
    "make_ind_prediction(new_customer)"
   ]
  },
  {
   "cell_type": "code",
   "execution_count": null,
   "metadata": {},
   "outputs": [],
   "source": []
  }
 ],
 "metadata": {
  "kernelspec": {
   "display_name": "Python 3.9.0 64-bit",
   "metadata": {
    "interpreter": {
     "hash": "aee8b7b246df8f9039afb4144a1f6fd8d2ca17a180786b69acc140d282b71a49"
    }
   },
   "name": "python3"
  },
  "language_info": {
   "codemirror_mode": {
    "name": "ipython",
    "version": 3
   },
   "file_extension": ".py",
   "mimetype": "text/x-python",
   "name": "python",
   "nbconvert_exporter": "python",
   "pygments_lexer": "ipython3",
   "version": "3.9.7"
  }
 },
 "nbformat": 4,
 "nbformat_minor": 2
}
